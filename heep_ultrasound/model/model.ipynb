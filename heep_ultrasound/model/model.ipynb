{
 "cells": [
  {
   "cell_type": "code",
   "execution_count": 22,
   "metadata": {},
   "outputs": [],
   "source": [
    "import torch\n",
    "import numpy as np\n",
    "import torch.utils\n",
    "from sklearn import preprocessing\n",
    "from sklearn.metrics import confusion_matrix\n",
    "from sklearn.metrics import accuracy_score\n",
    "from sklearn.model_selection import train_test_split\n",
    "import matplotlib.pyplot as plt"
   ]
  },
  {
   "cell_type": "markdown",
   "metadata": {},
   "source": [
    "# Settings"
   ]
  },
  {
   "cell_type": "code",
   "execution_count": 7,
   "metadata": {},
   "outputs": [],
   "source": [
    "SAMPLING_FREQUENCY = 100000 #Hz\n",
    "WINDOW_SIZE = 35000\n",
    "\n",
    "TARGETS = 3"
   ]
  },
  {
   "cell_type": "code",
   "execution_count": null,
   "metadata": {},
   "outputs": [],
   "source": [
    "x_windows = []\n",
    "y_windows = []\n",
    "\n",
    "# Extracting Y labels\n",
    "with open(\"../data/dataset_y\", \"r\") as y:\n",
    "    y_line = y.readlines()\n",
    "    y_windows = [int(i.strip()) for i in y_line]\n",
    "    print(\"First Class:\", y_windows.count(1), \"samples\")\n",
    "    print(\"Second Class:\", y_windows.count(2), \"samples\")\n",
    "    print(\"Third Class:\", y_windows.count(3), \"samples\")\n",
    "\n",
    "with open(\"../data/dataset_X\", \"r\") as X:\n",
    "    for k, line in enumerate(X):\n",
    "        x_windows.append([int(i.strip()) for i in line.split(\",\")])\n",
    "        print(k)\n",
    "\n"
   ]
  },
  {
   "cell_type": "code",
   "execution_count": 9,
   "metadata": {},
   "outputs": [
    {
     "name": "stdout",
     "output_type": "stream",
     "text": [
      "Target: 1\n",
      "Target: 2\n",
      "Target: 3\n",
      "2400\n",
      "2400\n"
     ]
    }
   ],
   "source": [
    "# Reduced samples\n",
    "x_windows = []\n",
    "y_windows = []\n",
    "\n",
    "count = 1000\n",
    "\n",
    "for target in range(1, 4):\n",
    "    print(\"Target:\", target)\n",
    "    with open(f\"../data/data_{target}\", \"r\") as file:\n",
    "        for i in range(count):\n",
    "            line = file.readline()\n",
    "            x_windows.append([int(j.strip()) for j in line.split(\",\")])\n",
    "            y_windows.append(target - 1)\n",
    "\n",
    "print(len(x_windows))\n",
    "print(len(y_windows))"
   ]
  },
  {
   "cell_type": "code",
   "execution_count": 10,
   "metadata": {},
   "outputs": [
    {
     "name": "stdout",
     "output_type": "stream",
     "text": [
      "x_windows shape:  (2400, 35000)\n",
      "y_windows shape:  (2400,)\n"
     ]
    }
   ],
   "source": [
    "x_windows = np.asarray(x_windows)\n",
    "y_windows = np.asarray(y_windows)\n",
    "print(\"x_windows shape: \", x_windows.shape) # Each window of 16,896 samples can be used to create a spectrogram \n",
    "print(\"y_windows shape: \", y_windows.shape) # Corresponding label for each window"
   ]
  },
  {
   "cell_type": "code",
   "execution_count": 6,
   "metadata": {},
   "outputs": [],
   "source": [
    "def to_categorical(x, n_classes):\n",
    "    return np.eye(n_classes, dtype='uint8')[x]"
   ]
  },
  {
   "cell_type": "code",
   "execution_count": 11,
   "metadata": {},
   "outputs": [
    {
     "name": "stdout",
     "output_type": "stream",
     "text": [
      "The shape of the one-hot encoded labels np array is:  (2400, 3)\n"
     ]
    }
   ],
   "source": [
    "y_features_hot = to_categorical(y_windows, n_classes=TARGETS)\n",
    "\n",
    "print('The shape of the one-hot encoded labels np array is: ' , y_features_hot.shape)"
   ]
  },
  {
   "cell_type": "code",
   "execution_count": 14,
   "metadata": {},
   "outputs": [
    {
     "name": "stdout",
     "output_type": "stream",
     "text": [
      "Training samples: (1350, 35000)\n",
      "Validation samples: (450, 35000)\n",
      "Test samples: (600, 35000)\n"
     ]
    }
   ],
   "source": [
    "#x_train, x_test, y_train, y_test = torch.utils.data.random_split(full_dataset, [train_size, test_size])\n",
    "x_train, x_test, y_train, y_test = train_test_split(x_windows,\n",
    "                                                    y_features_hot,\n",
    "                                                    test_size=0.25,\n",
    "                                                    random_state=1)\n",
    "x_train, x_val, y_train, y_val = train_test_split(x_train,\n",
    "                                                  y_train,\n",
    "                                                  test_size=0.25,\n",
    "                                                  random_state=1)\n",
    "\n",
    "print('Training samples:', x_train.shape)\n",
    "print('Validation samples:', x_val.shape)\n",
    "print('Test samples:', x_test.shape)"
   ]
  },
  {
   "cell_type": "code",
   "execution_count": 15,
   "metadata": {},
   "outputs": [],
   "source": [
    "def count_parameters(model): return sum(p.numel() for p in model.parameters() if p.requires_grad)"
   ]
  },
  {
   "cell_type": "code",
   "execution_count": 16,
   "metadata": {},
   "outputs": [
    {
     "name": "stdout",
     "output_type": "stream",
     "text": [
      "18791\n"
     ]
    }
   ],
   "source": [
    "KERNEL_SIZE = 64\n",
    "POOL_FACT = 2\n",
    "STRIDE_FACT = KERNEL_SIZE // 4\n",
    "CHANNEL_COUNT = 16\n",
    "use_avg_pool = True\n",
    "model = torch.nn.Sequential() \n",
    "output_dim = 35000\n",
    "model.append(torch.nn.Conv1d(in_channels = 1, out_channels = CHANNEL_COUNT, kernel_size = KERNEL_SIZE, stride=STRIDE_FACT)) #16x16896 - 512 + 1 \n",
    "output_dim = (output_dim - KERNEL_SIZE) // STRIDE_FACT + 1\n",
    "model.append(torch.nn.ReLU()) \n",
    "if use_avg_pool:\n",
    "    model.append(torch.nn.AvgPool1d(POOL_FACT))\n",
    "else:\n",
    "    model.append(torch.nn.MaxPool1d(POOL_FACT)) #16x8192\n",
    "output_dim /= POOL_FACT\n",
    "model.append(torch.nn.Conv1d(in_channels = CHANNEL_COUNT, out_channels=CHANNEL_COUNT, kernel_size=KERNEL_SIZE // 2, stride=STRIDE_FACT // 2)) #16x7681\n",
    "output_dim = (output_dim - KERNEL_SIZE // 2) // (STRIDE_FACT // 2)+ 1\n",
    "model.append(torch.nn.ReLU())\n",
    "if use_avg_pool:\n",
    "    model.append(torch.nn.AvgPool1d(POOL_FACT))\n",
    "else:\n",
    "    model.append(torch.nn.MaxPool1d(POOL_FACT)) #16x8192\n",
    "output_dim /= POOL_FACT\n",
    "model.append(torch.nn.Flatten())\n",
    "model.append(torch.nn.Linear(in_features = int(output_dim) * CHANNEL_COUNT, out_features = 9))\n",
    "model.append(torch.nn.ReLU())\n",
    "model.append(torch.nn.Linear(in_features = 9, out_features = 3))\n",
    "#model.append(torch.nn.Softmax(-1))\n",
    "\n",
    "# Print model summary\n",
    "#model.summary()\n",
    "print(count_parameters(model))\n",
    "\n",
    "opt = torch.optim.Adam(params=model.parameters(), lr=0.01)\n",
    "criterion = torch.nn.CrossEntropyLoss()"
   ]
  },
  {
   "cell_type": "code",
   "execution_count": 17,
   "metadata": {},
   "outputs": [
    {
     "name": "stdout",
     "output_type": "stream",
     "text": [
      "(1350, 1, 35000)\n",
      "(450, 1, 35000)\n",
      "(600, 1, 35000)\n"
     ]
    }
   ],
   "source": [
    "x_train_r = x_train.reshape(x_train.shape[0], 1, -1)\n",
    "print(x_train_r.shape)\n",
    "x_val_r = x_val.reshape(x_val.shape[0], 1, -1)\n",
    "print(x_val_r.shape)\n",
    "x_test_r = x_test.reshape(x_test.shape[0], 1, -1)\n",
    "print(x_test_r.shape)"
   ]
  },
  {
   "cell_type": "code",
   "execution_count": 18,
   "metadata": {},
   "outputs": [],
   "source": [
    "\n",
    "def validate(model, criterion, val_input, val_target, device=\"cpu\"):\n",
    "    output = model(val_input.float().to(device))\n",
    "    loss = criterion(output, val_target.float().to(device))\n",
    "    return loss.item()\n",
    "\n",
    "\n",
    "def train(model, criterion, optimizer, train_input, train_target, val_input, val_target, num_epochs, mini_batch_size, device=\"cpu\"):\n",
    "    train_input, train_target = train_input.float().to(device), train_target.float().to(device)\n",
    "    loss_history = {\"train_loss\":[], \"val_loss\":[]}\n",
    "    for e in range(num_epochs):\n",
    "        print(f\"Epoch: {e}\")\n",
    "        avg_loss = 0\n",
    "        for b in range(0, train_input.size(0), mini_batch_size):\n",
    "            output = model(train_input.narrow(0, b, mini_batch_size).float().to(device))\n",
    "            loss = criterion(output, train_target.narrow(0, b, mini_batch_size).float().to(device))\n",
    "            avg_loss += loss.item()\n",
    "            optimizer.zero_grad()\n",
    "            loss.backward()\n",
    "            optimizer.step()\n",
    "        with torch.no_grad():\n",
    "            validate_loss = validate(model, criterion, val_input, val_target)\n",
    "        avg_loss /= (train_input.size(0) // mini_batch_size)\n",
    "        loss_history[\"train_loss\"].append(avg_loss)\n",
    "        loss_history[\"val_loss\"].append(validate_loss)\n",
    "        print(\"Train Loss:\", avg_loss)\n",
    "        print(\"Val Loss:\", validate_loss)\n",
    "    return loss_history"
   ]
  },
  {
   "cell_type": "code",
   "execution_count": 20,
   "metadata": {},
   "outputs": [
    {
     "name": "stdout",
     "output_type": "stream",
     "text": [
      "Epoch: 0\n",
      "Train Loss: 1.1203936338424683\n",
      "Val Loss: 1.1276637315750122\n",
      "Epoch: 1\n",
      "Train Loss: 1.1186259508132934\n",
      "Val Loss: 1.1249645948410034\n",
      "Epoch: 2\n",
      "Train Loss: 1.1160515069961547\n",
      "Val Loss: 1.1216782331466675\n",
      "Epoch: 3\n",
      "Train Loss: 1.1132030963897706\n",
      "Val Loss: 1.1182466745376587\n",
      "Epoch: 4\n",
      "Train Loss: 1.1103936672210692\n",
      "Val Loss: 1.1149415969848633\n",
      "Epoch: 5\n",
      "Train Loss: 1.1078112602233887\n",
      "Val Loss: 1.1119247674942017\n",
      "Epoch: 6\n",
      "Train Loss: 1.105558180809021\n",
      "Val Loss: 1.1092807054519653\n",
      "Epoch: 7\n",
      "Train Loss: 1.1036751985549926\n",
      "Val Loss: 1.1070376634597778\n",
      "Epoch: 8\n",
      "Train Loss: 1.1021602153778076\n",
      "Val Loss: 1.105187177658081\n",
      "Epoch: 9\n",
      "Train Loss: 1.1009840488433837\n",
      "Val Loss: 1.1036964654922485\n",
      "Epoch: 10\n",
      "Train Loss: 1.100101900100708\n",
      "Val Loss: 1.1025208234786987\n",
      "Epoch: 11\n",
      "Train Loss: 1.0994630098342895\n",
      "Val Loss: 1.1016100645065308\n",
      "Epoch: 12\n",
      "Train Loss: 1.0990165233612061\n",
      "Val Loss: 1.1009156703948975\n",
      "Epoch: 13\n",
      "Train Loss: 1.0987168312072755\n",
      "Val Loss: 1.1003934144973755\n",
      "Epoch: 14\n",
      "Train Loss: 1.0985243320465088\n",
      "Val Loss: 1.100005030632019\n",
      "Epoch: 15\n",
      "Train Loss: 1.0984071493148804\n",
      "Val Loss: 1.0997190475463867\n",
      "Epoch: 16\n",
      "Train Loss: 1.0983407020568847\n",
      "Val Loss: 1.0995101928710938\n",
      "Epoch: 17\n",
      "Train Loss: 1.0983067512512208\n",
      "Val Loss: 1.0993589162826538\n",
      "Epoch: 18\n",
      "Train Loss: 1.0982924461364747\n",
      "Val Loss: 1.099250316619873\n",
      "Epoch: 19\n",
      "Train Loss: 1.0982891082763673\n",
      "Val Loss: 1.0991731882095337\n",
      "Epoch: 20\n",
      "Train Loss: 1.098291277885437\n",
      "Val Loss: 1.0991191864013672\n",
      "Epoch: 21\n",
      "Train Loss: 1.0982956886291504\n",
      "Val Loss: 1.099082589149475\n",
      "Epoch: 22\n",
      "Train Loss: 1.0983005046844483\n",
      "Val Loss: 1.0990583896636963\n",
      "Epoch: 23\n",
      "Train Loss: 1.0983047962188721\n",
      "Val Loss: 1.099043369293213\n",
      "Epoch: 24\n",
      "Train Loss: 1.098308253288269\n",
      "Val Loss: 1.0990346670150757\n",
      "Epoch: 25\n",
      "Train Loss: 1.0983108758926392\n",
      "Val Loss: 1.0990307331085205\n",
      "Epoch: 26\n",
      "Train Loss: 1.0983128070831298\n",
      "Val Loss: 1.099029779434204\n",
      "Epoch: 27\n",
      "Train Loss: 1.098314118385315\n",
      "Val Loss: 1.099030613899231\n",
      "Epoch: 28\n",
      "Train Loss: 1.0983148574829102\n",
      "Val Loss: 1.0990328788757324\n",
      "Epoch: 29\n",
      "Train Loss: 1.0983154296875\n",
      "Val Loss: 1.099035382270813\n",
      "Epoch: 30\n",
      "Train Loss: 1.098315668106079\n",
      "Val Loss: 1.0990381240844727\n",
      "Epoch: 31\n",
      "Train Loss: 1.0983159303665162\n",
      "Val Loss: 1.0990405082702637\n",
      "Epoch: 32\n",
      "Train Loss: 1.0983160018920899\n",
      "Val Loss: 1.0990426540374756\n",
      "Epoch: 33\n",
      "Train Loss: 1.0983161449432373\n",
      "Val Loss: 1.0990445613861084\n",
      "Epoch: 34\n",
      "Train Loss: 1.0983161687850953\n",
      "Val Loss: 1.099045991897583\n",
      "Epoch: 35\n",
      "Train Loss: 1.098316240310669\n",
      "Val Loss: 1.0990469455718994\n",
      "Epoch: 36\n",
      "Train Loss: 1.0983163595199585\n",
      "Val Loss: 1.0990477800369263\n",
      "Epoch: 37\n",
      "Train Loss: 1.09831645488739\n",
      "Val Loss: 1.099048137664795\n",
      "Epoch: 38\n",
      "Train Loss: 1.0983166694641113\n",
      "Val Loss: 1.099048376083374\n",
      "Epoch: 39\n",
      "Train Loss: 1.0983168125152587\n",
      "Val Loss: 1.0990486145019531\n",
      "Epoch: 40\n",
      "Train Loss: 1.0983170032501222\n",
      "Val Loss: 1.0990484952926636\n",
      "Epoch: 41\n",
      "Train Loss: 1.098317265510559\n",
      "Val Loss: 1.099048376083374\n",
      "Epoch: 42\n",
      "Train Loss: 1.0983174562454223\n",
      "Val Loss: 1.099048376083374\n",
      "Epoch: 43\n",
      "Train Loss: 1.0983176946640014\n",
      "Val Loss: 1.099048137664795\n",
      "Epoch: 44\n",
      "Train Loss: 1.0983179092407227\n",
      "Val Loss: 1.099048137664795\n",
      "Epoch: 45\n",
      "Train Loss: 1.0983181715011596\n",
      "Val Loss: 1.0990480184555054\n",
      "Epoch: 46\n",
      "Train Loss: 1.0983184337615968\n",
      "Val Loss: 1.0990478992462158\n",
      "Epoch: 47\n",
      "Train Loss: 1.0983186721801759\n",
      "Val Loss: 1.0990476608276367\n",
      "Epoch: 48\n",
      "Train Loss: 1.098318862915039\n",
      "Val Loss: 1.0990476608276367\n",
      "Epoch: 49\n",
      "Train Loss: 1.098319172859192\n",
      "Val Loss: 1.0990475416183472\n",
      "Epoch: 50\n",
      "Train Loss: 1.0983193874359132\n",
      "Val Loss: 1.0990476608276367\n",
      "Epoch: 51\n",
      "Train Loss: 1.0983195304870605\n",
      "Val Loss: 1.0990475416183472\n",
      "Epoch: 52\n",
      "Train Loss: 1.0983198404312133\n",
      "Val Loss: 1.0990476608276367\n",
      "Epoch: 53\n",
      "Train Loss: 1.0983200073242188\n",
      "Val Loss: 1.0990474224090576\n",
      "Epoch: 54\n",
      "Train Loss: 1.098320198059082\n",
      "Val Loss: 1.0990474224090576\n",
      "Epoch: 55\n",
      "Train Loss: 1.0983204126358033\n",
      "Val Loss: 1.0990474224090576\n",
      "Epoch: 56\n",
      "Train Loss: 1.0983206033706665\n",
      "Val Loss: 1.0990474224090576\n",
      "Epoch: 57\n",
      "Train Loss: 1.0983208656311034\n",
      "Val Loss: 1.0990471839904785\n",
      "Epoch: 58\n",
      "Train Loss: 1.0983210563659669\n",
      "Val Loss: 1.0990474224090576\n",
      "Epoch: 59\n",
      "Train Loss: 1.0983211755752564\n",
      "Val Loss: 1.0990471839904785\n",
      "Epoch: 60\n",
      "Train Loss: 1.0983214139938355\n",
      "Val Loss: 1.099047303199768\n",
      "Epoch: 61\n",
      "Train Loss: 1.0983215808868407\n",
      "Val Loss: 1.0990471839904785\n",
      "Epoch: 62\n",
      "Train Loss: 1.0983217239379883\n",
      "Val Loss: 1.099047064781189\n",
      "Epoch: 63\n",
      "Train Loss: 1.0983219861984252\n",
      "Val Loss: 1.099047064781189\n",
      "Epoch: 64\n",
      "Train Loss: 1.0983221054077148\n",
      "Val Loss: 1.0990471839904785\n",
      "Epoch: 65\n",
      "Train Loss: 1.098322343826294\n",
      "Val Loss: 1.0990469455718994\n",
      "Epoch: 66\n",
      "Train Loss: 1.0983225345611571\n",
      "Val Loss: 1.099047064781189\n",
      "Epoch: 67\n",
      "Train Loss: 1.0983226776123047\n",
      "Val Loss: 1.099047064781189\n",
      "Epoch: 68\n",
      "Train Loss: 1.098322820663452\n",
      "Val Loss: 1.099047064781189\n",
      "Epoch: 69\n",
      "Train Loss: 1.0983229875564575\n",
      "Val Loss: 1.0990469455718994\n",
      "Epoch: 70\n",
      "Train Loss: 1.0983232259750366\n",
      "Val Loss: 1.099047064781189\n",
      "Epoch: 71\n",
      "Train Loss: 1.098323392868042\n",
      "Val Loss: 1.0990468263626099\n",
      "Epoch: 72\n",
      "Train Loss: 1.0983235597610475\n",
      "Val Loss: 1.0990468263626099\n",
      "Epoch: 73\n",
      "Train Loss: 1.0983236312866211\n",
      "Val Loss: 1.0990469455718994\n",
      "Epoch: 74\n",
      "Train Loss: 1.098323893547058\n",
      "Val Loss: 1.0990469455718994\n",
      "Epoch: 75\n",
      "Train Loss: 1.0983240127563476\n",
      "Val Loss: 1.0990467071533203\n",
      "Epoch: 76\n",
      "Train Loss: 1.0983242034912108\n",
      "Val Loss: 1.0990469455718994\n",
      "Epoch: 77\n",
      "Train Loss: 1.0983243942260743\n",
      "Val Loss: 1.0990467071533203\n",
      "Epoch: 78\n",
      "Train Loss: 1.0983245134353639\n",
      "Val Loss: 1.0990467071533203\n",
      "Epoch: 79\n",
      "Train Loss: 1.098324728012085\n",
      "Val Loss: 1.0990465879440308\n",
      "Epoch: 80\n",
      "Train Loss: 1.0983247756958008\n",
      "Val Loss: 1.0990468263626099\n",
      "Epoch: 81\n",
      "Train Loss: 1.0983249187469482\n",
      "Val Loss: 1.0990465879440308\n",
      "Epoch: 82\n",
      "Train Loss: 1.0983251094818116\n",
      "Val Loss: 1.0990465879440308\n",
      "Epoch: 83\n",
      "Train Loss: 1.0983252763748168\n",
      "Val Loss: 1.0990465879440308\n",
      "Epoch: 84\n",
      "Train Loss: 1.0983253479003907\n",
      "Val Loss: 1.0990465879440308\n",
      "Epoch: 85\n",
      "Train Loss: 1.0983255863189698\n",
      "Val Loss: 1.0990464687347412\n",
      "Epoch: 86\n",
      "Train Loss: 1.0983257055282594\n",
      "Val Loss: 1.0990465879440308\n",
      "Epoch: 87\n",
      "Train Loss: 1.0983258485794067\n",
      "Val Loss: 1.0990465879440308\n",
      "Epoch: 88\n",
      "Train Loss: 1.098326063156128\n",
      "Val Loss: 1.0990464687347412\n",
      "Epoch: 89\n",
      "Train Loss: 1.0983261823654176\n",
      "Val Loss: 1.0990464687347412\n",
      "Epoch: 90\n",
      "Train Loss: 1.098326325416565\n",
      "Val Loss: 1.0990463495254517\n",
      "Epoch: 91\n",
      "Train Loss: 1.0983264446258545\n",
      "Val Loss: 1.0990464687347412\n",
      "Epoch: 92\n",
      "Train Loss: 1.0983265876770019\n",
      "Val Loss: 1.0990463495254517\n",
      "Epoch: 93\n",
      "Train Loss: 1.0983267068862914\n",
      "Val Loss: 1.0990464687347412\n",
      "Epoch: 94\n",
      "Train Loss: 1.098326849937439\n",
      "Val Loss: 1.099046230316162\n",
      "Epoch: 95\n",
      "Train Loss: 1.0983270168304444\n",
      "Val Loss: 1.099046230316162\n",
      "Epoch: 96\n",
      "Train Loss: 1.098327088356018\n",
      "Val Loss: 1.0990463495254517\n",
      "Epoch: 97\n",
      "Train Loss: 1.0983272790908813\n",
      "Val Loss: 1.099046230316162\n",
      "Epoch: 98\n",
      "Train Loss: 1.098327398300171\n",
      "Val Loss: 1.099046230316162\n",
      "Epoch: 99\n",
      "Train Loss: 1.0983275175094604\n",
      "Val Loss: 1.0990461111068726\n"
     ]
    }
   ],
   "source": [
    "history = train(model, criterion, opt, torch.Tensor(x_train_r), torch.Tensor(y_train), torch.Tensor(x_val_r), torch.Tensor(y_val), num_epochs=100, mini_batch_size=x_train_r.shape[0] // 5)"
   ]
  },
  {
   "cell_type": "code",
   "execution_count": 23,
   "metadata": {},
   "outputs": [
    {
     "data": {
      "text/plain": [
       "<matplotlib.legend.Legend at 0x7f87fe099280>"
      ]
     },
     "execution_count": 23,
     "metadata": {},
     "output_type": "execute_result"
    },
    {
     "data": {
      "image/png": "[encoded data removed]",
      "text/plain": [
       "<Figure size 640x480 with 1 Axes>"
      ]
     },
     "metadata": {},
     "output_type": "display_data"
    }
   ],
   "source": [
    "\n",
    "train_loss = history['train_loss']\n",
    "val_loss = history['val_loss']\n",
    "\n",
    "plt.figure()\n",
    "plt.clf()\n",
    "plt.xlabel('Epochs')\n",
    "plt.ylabel('Loss')\n",
    "plt.plot(np.arange(0, len(train_loss)), train_loss, color='r', label='training loss')\n",
    "plt.plot(np.arange(0, len(val_loss)), val_loss, color='g', label='validation loss')\n",
    "plt.legend()"
   ]
  },
  {
   "cell_type": "code",
   "execution_count": 24,
   "metadata": {},
   "outputs": [],
   "source": [
    "\n",
    "def evaluate(model, x_test, y_test):\n",
    "    y_pred = model(x_test).detach()\n",
    "    res = np.argmax(y_pred, axis = 1) \n",
    "    \n",
    "    target = np.argmax(y_test, axis = 1)\n",
    "    train_acc = torch.sum(res == target) / x_test.size(0)\n",
    "\n",
    "    return train_acc"
   ]
  },
  {
   "cell_type": "code",
   "execution_count": 25,
   "metadata": {},
   "outputs": [
    {
     "name": "stdout",
     "output_type": "stream",
     "text": [
      "Evaluate model:\n",
      "Test accuracy: 31.17%\n"
     ]
    }
   ],
   "source": [
    "\n",
    "print('Evaluate model:')\n",
    "#results = model.evaluate(x_test_r, y_test)\n",
    "accuracy = evaluate(model, torch.Tensor(x_test_r), torch.Tensor(y_test))\n",
    "#print('Test loss: {:f}'.format(results[0]))\n",
    "print('Test accuracy: {:.2f}%'.format(accuracy * 100))"
   ]
  },
  {
   "cell_type": "code",
   "execution_count": 26,
   "metadata": {},
   "outputs": [
    {
     "data": {
      "text/plain": [
       "<matplotlib.image.AxesImage at 0x7f87fdf79790>"
      ]
     },
     "execution_count": 26,
     "metadata": {},
     "output_type": "execute_result"
    },
    {
     "data": {
      "image/png": "[encoded data removed]",
      "text/plain": [
       "<Figure size 640x480 with 1 Axes>"
      ]
     },
     "metadata": {},
     "output_type": "display_data"
    }
   ],
   "source": [
    "\n",
    "# Plot a confusion matrix\n",
    "y_pred = model(torch.Tensor(x_test_r)).detach()\n",
    "\n",
    "y_pred_class_n = np.argmax(y_pred, axis=1)\n",
    "y_true_class_n = np.argmax(y_test, axis=1)\n",
    "\n",
    "#accuracy = accuracy_score(y_true_class_n, y_pred_class_n)\n",
    "#np.set_printoptions(precision=2)\n",
    "#print(\"Accuracy = {:.2f}%\".format(accuracy * 100))\n",
    "\n",
    "cm = confusion_matrix(y_true_class_n, y_pred_class_n, labels=[0,1,2])\n",
    "\n",
    "# Loop over data dimensions and create text annotations.\n",
    "thresh = cm.max() / 2.\n",
    "for i in range(cm.shape[0]):\n",
    "    for j in range(cm.shape[1]):\n",
    "        plt.text(j, i, format(cm[i, j], 'd'),\n",
    "                ha=\"center\", va=\"center\",\n",
    "                color=\"white\" if cm[i, j] > thresh else \"black\")\n",
    "\n",
    "plt.imshow(cm, cmap=plt.cm.Blues)"
   ]
  }
 ],
 "metadata": {
  "kernelspec": {
   "display_name": "Python 3.9.2 64-bit",
   "language": "python",
   "name": "python3"
  },
  "language_info": {
   "codemirror_mode": {
    "name": "ipython",
    "version": 3
   },
   "file_extension": ".py",
   "mimetype": "text/x-python",
   "name": "python",
   "nbconvert_exporter": "python",
   "pygments_lexer": "ipython3",
   "version": "3.9.2"
  },
  "orig_nbformat": 4,
  "vscode": {
   "interpreter": {
    "hash": "e7370f93d1d0cde622a1f8e1c04877d8463912d04d973331ad4851f04de6915a"
   }
  }
 },
 "nbformat": 4,
 "nbformat_minor": 2
}
