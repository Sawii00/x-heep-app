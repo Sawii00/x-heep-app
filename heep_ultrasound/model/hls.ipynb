{
 "cells": [
  {
   "cell_type": "markdown",
   "metadata": {
    "deletable": false,
    "editable": false
   },
   "source": [
    "## Start with the necessary imports"
   ]
  },
  {
   "cell_type": "code",
   "execution_count": 1,
   "metadata": {},
   "outputs": [],
   "source": [
    "import matplotlib.pyplot as plt\n",
    "import numpy as np\n",
    "import time\n",
    "import tensorflow.compat.v2 as tf"
   ]
  },
  {
   "cell_type": "markdown",
   "metadata": {
    "deletable": false,
    "editable": false
   },
   "source": [
    "## Dataset import\n",
    "\n"
   ]
  },
  {
   "cell_type": "code",
   "execution_count": 2,
   "metadata": {},
   "outputs": [
    {
     "name": "stderr",
     "output_type": "stream",
     "text": [
      "C:\\Users\\masg\\Anaconda3\\envs\\hls4ml\\lib\\site-packages\\tqdm\\auto.py:22: TqdmWarning: IProgress not found. Please update jupyter and ipywidgets. See https://ipywidgets.readthedocs.io/en/stable/user_install.html\n",
      "  from .autonotebook import tqdm as notebook_tqdm\n"
     ]
    },
    {
     "name": "stdout",
     "output_type": "stream",
     "text": [
      "Train X shape (16339, 35000, 1), Train Y shape (16339,)\n",
      "Test X shape (256, 35000, 1), Test Y shape (256,)\n",
      "Valid X shape (4095, 35000, 1), Test Y shape (4095,)\n"
     ]
    }
   ],
   "source": [
    "import torch\n",
    "#NOTE invert channel position for keras w.r.t pytorch\n",
    "train_data_torch = torch.load('../UltraWood/data/databases/train_data_torch_main.pt').float()\n",
    "train_data_torch = (train_data_torch-torch.mean(train_data_torch,2,keepdim=True))/torch.max(train_data_torch,2,keepdim=True)[0]    \n",
    "train_data_tf = tf.convert_to_tensor(train_data_torch.permute(0,2,1).numpy())\n",
    "train_targets_torch = torch.load('../UltraWood/data/databases/train_targets_torch_main.pt')\n",
    "train_targets_tf = tf.convert_to_tensor(train_targets_torch.numpy())\n",
    "\n",
    "test_data_torch = torch.load('../UltraWood/data/databases/test_data_torch_main.pt').float()\n",
    "test_data_torch = (test_data_torch-torch.mean(test_data_torch,2,keepdim=True))/torch.max(test_data_torch,2,keepdim=True)[0]    \n",
    "test_data_tf = tf.convert_to_tensor(test_data_torch.permute(0,2,1).numpy())\n",
    "test_targets_torch = torch.load('../UltraWood/data/databases/test_targets_torch_main.pt')\n",
    "test_targets_tf = tf.convert_to_tensor(test_targets_torch.numpy())\n",
    "\n",
    "valid_data_torch = torch.load('../UltraWood/data/databases/valid_data_torch_main.pt').float()\n",
    "valid_data_torch = (valid_data_torch-torch.mean(valid_data_torch,2,keepdim=True))/torch.max(valid_data_torch,2,keepdim=True)[0]    \n",
    "valid_data_tf = tf.convert_to_tensor(valid_data_torch.permute(0,2,1).numpy())\n",
    "valid_targets_torch = torch.load('../UltraWood/data/databases/valid_targets_torch_main.pt')\n",
    "valid_targets_tf = tf.convert_to_tensor(valid_targets_torch.numpy())\n",
    "\n",
    "print(f\"Train X shape {train_data_tf.shape}, Train Y shape {train_targets_tf.shape}\\nTest X shape {test_data_tf.shape}, Test Y shape {test_targets_tf.shape}\")\n",
    "print(f\"Valid X shape {valid_data_tf.shape}, Test Y shape {valid_targets_tf.shape}\")"
   ]
  },
  {
   "cell_type": "code",
   "execution_count": 3,
   "metadata": {},
   "outputs": [],
   "source": [
    "'''\n",
    "batch_size = 1024\n",
    "\n",
    "train_data = train_data_tf.shuffle(4096).batch(batch_size).prefetch(tf.data.experimental.AUTOTUNE)\n",
    "\n",
    "for example in train_data.take(1):\n",
    "    break\n",
    "print(\"X train batch shape = {}, Y train batch shape = {} \".format(example[0].shape, example[1].shape))\n",
    "\n",
    "val_data = test_data_tf.batch(batch_size)\n",
    "val_data = val_data.prefetch(tf.data.experimental.AUTOTUNE)\n",
    "'''\n",
    "classes = [\"dry\", \"semi\", \"wet\"]\n",
    "\n",
    "#train_data_tf = train_data_tf.reshape([train_data_tf.shape[0], train_data_tf.shape[2], 1])\n",
    "#train_targets_tf = train_targets_tf.reshape([train_targets_tf.shape[0], train_targets_tf.shape[2], 1])\n",
    "train_targets_tf = tf.keras.utils.to_categorical(train_targets_tf, num_classes=len(classes))\n",
    "test_targets_tf = tf.keras.utils.to_categorical(test_targets_tf, num_classes=len(classes))\n",
    "valid_targets_tf = tf.keras.utils.to_categorical(valid_targets_tf, num_classes=len(classes))\n"
   ]
  },
  {
   "cell_type": "markdown",
   "metadata": {
    "deletable": false,
    "editable": false
   },
   "source": [
    "## Defining the model\n",
    "\n",
    "We then need to define a model. For the lowest possible latency, each layer should have a maximum number of trainable parameters of 4096. This is due to fixed limits in the Vivado compiler, beyond which maximally unrolled (=parallel) compilation will fail. This will allow us to use `strategy = 'latency'` in the hls4ml part, rather than `strategy = 'resource'`, in turn resulting in lower latency"
   ]
  },
  {
   "cell_type": "code",
   "execution_count": 4,
   "metadata": {},
   "outputs": [],
   "source": [
    "from tensorflow.keras.layers import Conv1D, AvgPool1D, ReLU, Flatten, Dense, Softmax"
   ]
  },
  {
   "cell_type": "code",
   "execution_count": 5,
   "metadata": {},
   "outputs": [
    {
     "name": "stdout",
     "output_type": "stream",
     "text": [
      "Model: \"sequential\"\n",
      "_________________________________________________________________\n",
      " Layer (type)                Output Shape              Param #   \n",
      "=================================================================\n",
      " conv1d (Conv1D)             (None, 1090, 32)          4128      \n",
      "                                                                 \n",
      " re_lu (ReLU)                (None, 1090, 32)          0         \n",
      "                                                                 \n",
      " average_pooling1d (AverageP  (None, 545, 32)          0         \n",
      " ooling1D)                                                       \n",
      "                                                                 \n",
      " conv1d_1 (Conv1D)           (None, 31, 32)            65568     \n",
      "                                                                 \n",
      " re_lu_1 (ReLU)              (None, 31, 32)            0         \n",
      "                                                                 \n",
      " average_pooling1d_1 (Averag  (None, 15, 32)           0         \n",
      " ePooling1D)                                                     \n",
      "                                                                 \n",
      " flatten (Flatten)           (None, 480)               0         \n",
      "                                                                 \n",
      " dense (Dense)               (None, 9)                 4329      \n",
      "                                                                 \n",
      " re_lu_2 (ReLU)              (None, 9)                 0         \n",
      "                                                                 \n",
      " output_dense (Dense)        (None, 3)                 30        \n",
      "                                                                 \n",
      " output_softmax (Softmax)    (None, 3)                 0         \n",
      "                                                                 \n",
      "=================================================================\n",
      "Total params: 74,055\n",
      "Trainable params: 74,055\n",
      "Non-trainable params: 0\n",
      "_________________________________________________________________\n"
     ]
    }
   ],
   "source": [
    "model = tf.keras.Sequential()\n",
    "model.add(Conv1D(filters=32, kernel_size=128, strides=32, input_shape=(35000, 1)))\n",
    "model.add(ReLU())\n",
    "model.add(AvgPool1D(pool_size=2, strides=2))\n",
    "model.add(Conv1D(filters=32, kernel_size=64, strides=16))\n",
    "model.add(ReLU())\n",
    "model.add(AvgPool1D(pool_size=2, strides=2))\n",
    "model.add(Flatten())\n",
    "model.add(Dense(9))\n",
    "model.add(ReLU())\n",
    "model.add(Dense(3, name='output_dense'))\n",
    "model.add(Softmax(name=\"output_softmax\"))\n",
    "\n",
    "\n",
    "model.summary()"
   ]
  },
  {
   "cell_type": "markdown",
   "metadata": {
    "deletable": false,
    "editable": false
   },
   "source": [
    "Lets check if this model can be implemented completely unrolled (=parallel)"
   ]
  },
  {
   "cell_type": "code",
   "execution_count": 6,
   "metadata": {},
   "outputs": [
    {
     "name": "stdout",
     "output_type": "stream",
     "text": [
      "conv1d: 4096\n",
      "conv1d_1: 65536\n",
      "Layer conv1d_1 is too large (65536), are you sure you want to train?\n",
      "dense: 4320\n",
      "Layer dense is too large (4320), are you sure you want to train?\n",
      "output_dense: 27\n"
     ]
    }
   ],
   "source": [
    "for layer in model.layers:\n",
    "    if layer.__class__.__name__ in ['Conv1D', 'Dense']:\n",
    "        w = layer.get_weights()[0]\n",
    "        layersize = np.prod(w.shape)\n",
    "        print(\"{}: {}\".format(layer.name,layersize)) # 0 = weights, 1 = biases\n",
    "        if (layersize > 4096): # assuming that shape[0] is batch, i.e., 'None'\n",
    "            print(\"Layer {} is too large ({}), are you sure you want to train?\".format(layer.name,layersize))"
   ]
  },
  {
   "cell_type": "markdown",
   "metadata": {
    "deletable": false,
    "editable": false
   },
   "source": [
    "Looks good! It's below the Vivado-enforced unroll limit of 4096.\n",
    "\n",
    "## Prune dense and convolutional layers\n",
    "Since we've seen in the previous notebooks that pruning can be done at no accuracy cost, let's prune the convolutional and dense layers to 50% sparsity, skipping the output layer"
   ]
  },
  {
   "cell_type": "code",
   "execution_count": 8,
   "metadata": {},
   "outputs": [],
   "source": [
    "batch_size = 32\n"
   ]
  },
  {
   "cell_type": "code",
   "execution_count": null,
   "metadata": {},
   "outputs": [],
   "source": [
    "import tensorflow_model_optimization as tfmot\n",
    "from tensorflow_model_optimization.sparsity import keras as sparsity\n",
    "from tensorflow_model_optimization.python.core.sparsity.keras import pruning_callbacks\n",
    "\n",
    "\n",
    "NSTEPS = int(train_data_tf.shape[0]*0.9)  // batch_size #90% train, 10% validation in 10-fold cross validation\n",
    "print('Number of training steps per epoch is {}'.format(NSTEPS))\n",
    "\n",
    "# Prune all convolutional and dense layers gradually from 0 to 50% sparsity every 2 epochs, \n",
    "# ending by the 10th epoch\n",
    "def pruneFunction(layer):\n",
    "    pruning_params = {'pruning_schedule': sparsity.PolynomialDecay(initial_sparsity = 0.0,\n",
    "                                                                   final_sparsity = 0.50, \n",
    "                                                                   begin_step = NSTEPS*2, \n",
    "                                                                   end_step = NSTEPS*10, \n",
    "                                                                   frequency = NSTEPS)\n",
    "                     }\n",
    "    if isinstance(layer, tf.keras.layers.Conv1D):\n",
    "        return tfmot.sparsity.keras.prune_low_magnitude(layer, **pruning_params)\n",
    "    if isinstance(layer, tf.keras.layers.Dense) and layer.name!='output_dense':\n",
    "        return tfmot.sparsity.keras.prune_low_magnitude(layer, **pruning_params)  \n",
    "    return layer\n",
    "\n",
    "model_pruned = tf.keras.models.clone_model( model, clone_function=pruneFunction)"
   ]
  },
  {
   "cell_type": "markdown",
   "metadata": {
    "deletable": false,
    "editable": false
   },
   "source": [
    "## Train baseline\n",
    "\n",
    "We're now ready to train the model! We defined the batch size and n epochs above. We won't use callbacks that store the best weights only, since this might select a weight configuration that has not yet reached 50% sparsity."
   ]
  },
  {
   "cell_type": "code",
   "execution_count": 9,
   "metadata": {},
   "outputs": [
    {
     "name": "stdout",
     "output_type": "stream",
     "text": [
      "Epoch 1/30\n",
      "511/511 [==============================] - 15s 28ms/step - loss: 0.2431 - accuracy: 0.9033 - val_loss: 0.0290 - val_accuracy: 0.9922 - lr: 0.0030\n",
      "Epoch 2/30\n",
      "511/511 [==============================] - 14s 28ms/step - loss: 0.0210 - accuracy: 0.9942 - val_loss: 0.0078 - val_accuracy: 0.9968 - lr: 0.0030\n",
      "Epoch 3/30\n",
      "511/511 [==============================] - 14s 28ms/step - loss: 0.0053 - accuracy: 0.9987 - val_loss: 0.0290 - val_accuracy: 0.9919 - lr: 0.0030\n",
      "Epoch 4/30\n",
      "511/511 [==============================] - 14s 27ms/step - loss: 0.0160 - accuracy: 0.9960 - val_loss: 0.0016 - val_accuracy: 0.9998 - lr: 0.0030\n",
      "Epoch 5/30\n",
      "511/511 [==============================] - 14s 27ms/step - loss: 7.0673e-04 - accuracy: 0.9999 - val_loss: 6.4705e-04 - val_accuracy: 0.9998 - lr: 0.0030\n",
      "Epoch 6/30\n",
      "511/511 [==============================] - 14s 27ms/step - loss: 9.2708e-04 - accuracy: 0.9997 - val_loss: 2.7586e-04 - val_accuracy: 1.0000 - lr: 0.0030\n",
      "Epoch 7/30\n",
      "511/511 [==============================] - 14s 27ms/step - loss: 1.4781e-04 - accuracy: 1.0000 - val_loss: 9.6324e-05 - val_accuracy: 1.0000 - lr: 0.0030\n",
      "Epoch 8/30\n",
      "511/511 [==============================] - 14s 27ms/step - loss: 7.8961e-05 - accuracy: 1.0000 - val_loss: 6.6722e-05 - val_accuracy: 1.0000 - lr: 0.0030\n",
      "Epoch 9/30\n",
      "511/511 [==============================] - 14s 27ms/step - loss: 4.6265e-05 - accuracy: 1.0000 - val_loss: 4.7375e-05 - val_accuracy: 1.0000 - lr: 0.0030\n",
      "Epoch 10/30\n",
      "511/511 [==============================] - 14s 27ms/step - loss: 3.0821e-05 - accuracy: 1.0000 - val_loss: 5.2445e-05 - val_accuracy: 1.0000 - lr: 0.0030\n",
      "Epoch 11/30\n",
      "511/511 [==============================] - 14s 28ms/step - loss: 2.6558e-05 - accuracy: 1.0000 - val_loss: 3.0020e-05 - val_accuracy: 1.0000 - lr: 0.0030\n",
      "Epoch 12/30\n",
      "511/511 [==============================] - 14s 27ms/step - loss: 1.8011e-05 - accuracy: 1.0000 - val_loss: 2.4152e-05 - val_accuracy: 1.0000 - lr: 0.0030\n",
      "Epoch 13/30\n",
      "511/511 [==============================] - 14s 27ms/step - loss: 1.5114e-05 - accuracy: 1.0000 - val_loss: 1.8899e-05 - val_accuracy: 1.0000 - lr: 0.0030\n",
      "Epoch 14/30\n",
      "511/511 [==============================] - 14s 27ms/step - loss: 1.0365e-05 - accuracy: 1.0000 - val_loss: 1.4852e-05 - val_accuracy: 1.0000 - lr: 0.0030\n",
      "Epoch 15/30\n",
      "511/511 [==============================] - 14s 28ms/step - loss: 7.3412e-06 - accuracy: 1.0000 - val_loss: 1.1119e-05 - val_accuracy: 1.0000 - lr: 0.0030\n",
      "Epoch 16/30\n",
      "511/511 [==============================] - 14s 27ms/step - loss: 8.9844e-06 - accuracy: 1.0000 - val_loss: 6.4753e-06 - val_accuracy: 1.0000 - lr: 0.0030\n",
      "Epoch 17/30\n",
      "511/511 [==============================] - 14s 27ms/step - loss: 3.9146e-06 - accuracy: 1.0000 - val_loss: 5.6852e-06 - val_accuracy: 1.0000 - lr: 0.0030\n",
      "Epoch 18/30\n",
      "511/511 [==============================] - 14s 28ms/step - loss: 3.2444e-06 - accuracy: 1.0000 - val_loss: 3.8923e-06 - val_accuracy: 1.0000 - lr: 0.0030\n",
      "Epoch 19/30\n",
      "511/511 [==============================] - 14s 27ms/step - loss: 2.1463e-06 - accuracy: 1.0000 - val_loss: 3.6511e-06 - val_accuracy: 1.0000 - lr: 0.0030\n",
      "Epoch 20/30\n",
      "511/511 [==============================] - 14s 27ms/step - loss: 1.8851e-06 - accuracy: 1.0000 - val_loss: 2.3554e-06 - val_accuracy: 1.0000 - lr: 0.0030\n",
      "Epoch 21/30\n",
      "511/511 [==============================] - 14s 27ms/step - loss: 1.5178e-06 - accuracy: 1.0000 - val_loss: 2.4723e-06 - val_accuracy: 1.0000 - lr: 0.0030\n",
      "Epoch 22/30\n",
      "511/511 [==============================] - 14s 27ms/step - loss: 1.0545e-06 - accuracy: 1.0000 - val_loss: 1.6067e-06 - val_accuracy: 1.0000 - lr: 0.0030\n",
      "Epoch 23/30\n",
      "511/511 [==============================] - 14s 27ms/step - loss: 8.7797e-07 - accuracy: 1.0000 - val_loss: 1.3334e-06 - val_accuracy: 1.0000 - lr: 0.0030\n",
      "Epoch 24/30\n",
      "511/511 [==============================] - 13s 26ms/step - loss: 6.1017e-07 - accuracy: 1.0000 - val_loss: 8.4801e-07 - val_accuracy: 1.0000 - lr: 0.0030\n",
      "Epoch 25/30\n",
      "511/511 [==============================] - 13s 26ms/step - loss: 5.6743e-07 - accuracy: 1.0000 - val_loss: 5.5020e-07 - val_accuracy: 1.0000 - lr: 0.0030\n",
      "Epoch 26/30\n",
      "511/511 [==============================] - 13s 26ms/step - loss: 3.6206e-07 - accuracy: 1.0000 - val_loss: 4.3055e-07 - val_accuracy: 1.0000 - lr: 0.0030\n",
      "Epoch 27/30\n",
      "511/511 [==============================] - 13s 26ms/step - loss: 2.3477e-07 - accuracy: 1.0000 - val_loss: 3.8347e-07 - val_accuracy: 1.0000 - lr: 0.0030\n",
      "Epoch 28/30\n",
      "511/511 [==============================] - 14s 27ms/step - loss: 1.8188e-07 - accuracy: 1.0000 - val_loss: 3.3353e-07 - val_accuracy: 1.0000 - lr: 0.0030\n",
      "Epoch 29/30\n",
      "511/511 [==============================] - 13s 26ms/step - loss: 1.5320e-07 - accuracy: 1.0000 - val_loss: 2.0345e-07 - val_accuracy: 1.0000 - lr: 0.0030\n",
      "Epoch 30/30\n",
      "511/511 [==============================] - 13s 26ms/step - loss: 1.2632e-07 - accuracy: 1.0000 - val_loss: 5.8201e-07 - val_accuracy: 1.0000 - lr: 0.0030\n",
      "It took 6.90711719195048 minutes to train Keras model\n"
     ]
    }
   ],
   "source": [
    "train = True # True if you want to retrain, false if you want to load a previsously trained model\n",
    "\n",
    "n_epochs = 30\n",
    "\n",
    "if train:\n",
    "    \n",
    "    LOSS        = tf.keras.losses.CategoricalCrossentropy()\n",
    "    OPTIMIZER   = tf.keras.optimizers.Adam(learning_rate=3e-3)#, beta_1=0.9, beta_2=0.999, epsilon=1e-07, amsgrad=True)\n",
    "\n",
    "    model.compile(loss=LOSS, optimizer=OPTIMIZER, metrics=[\"accuracy\"])\n",
    "\n",
    "    callbacks = [\n",
    "            tf.keras.callbacks.EarlyStopping(patience=20, verbose=1),\n",
    "            tf.keras.callbacks.ReduceLROnPlateau(monitor='val_loss', factor=0.5, patience=30, verbose=1)\n",
    "            ] \n",
    "\n",
    "    start = time.time()\n",
    "    model.fit(x=train_data_tf,\n",
    "                     y=train_targets_tf,\n",
    "                     batch_size=batch_size,\n",
    "                     validation_data=(valid_data_tf, valid_targets_tf),\n",
    "                     epochs = n_epochs,\n",
    "                     callbacks = callbacks)   \n",
    "    end = time.time()\n",
    "\n",
    "    print('It took {} minutes to train Keras model'.format( (end - start)/60.))\n",
    "    \n",
    "    model.save('cnn_model.h5')\n",
    "\n",
    "else:\n",
    "    from qkeras.utils import _add_supported_quantized_objects\n",
    "    from tensorflow_model_optimization.python.core.sparsity.keras import pruning_wrapper\n",
    "    \n",
    "    co = {}\n",
    "    _add_supported_quantized_objects(co)\n",
    "    co['PruneLowMagnitude'] = pruning_wrapper.PruneLowMagnitude\n",
    "    model_pruned = tf.keras.models.load_model('pruned_cnn_model.h5', custom_objects=co)"
   ]
  },
  {
   "cell_type": "code",
   "execution_count": null,
   "metadata": {
    "scrolled": true
   },
   "outputs": [],
   "source": [
    "train = True # True if you want to retrain, false if you want to load a previsously trained model\n",
    "\n",
    "n_epochs = 30\n",
    "\n",
    "if train:\n",
    "    \n",
    "    LOSS        = tf.keras.losses.CategoricalCrossentropy()\n",
    "    OPTIMIZER   = tf.keras.optimizers.Adam(learning_rate=3e-3)#, beta_1=0.9, beta_2=0.999, epsilon=1e-07, amsgrad=True)\n",
    "\n",
    "    model_pruned.compile(loss=LOSS, optimizer=OPTIMIZER, metrics=[\"accuracy\"])\n",
    "\n",
    "    callbacks = [\n",
    "            tf.keras.callbacks.EarlyStopping(patience=20, verbose=1),\n",
    "            tf.keras.callbacks.ReduceLROnPlateau(monitor='val_loss', factor=0.5, patience=30, verbose=1)#,\n",
    "            #pruning_callbacks.UpdatePruningStep()\n",
    "            ] \n",
    "\n",
    "    start = time.time()\n",
    "    model_pruned.fit(x=train_data_tf,\n",
    "                     y=train_targets_tf,\n",
    "                     batch_size=batch_size,\n",
    "                     validation_data=(valid_data_tf, valid_targets_tf),\n",
    "                     epochs = n_epochs,\n",
    "                     callbacks = callbacks)   \n",
    "    end = time.time()\n",
    "\n",
    "    print('It took {} minutes to train Keras model'.format( (end - start)/60.))\n",
    "    \n",
    "    model_pruned.save('pruned_cnn_model.h5')\n",
    "\n",
    "else:\n",
    "    from qkeras.utils import _add_supported_quantized_objects\n",
    "    from tensorflow_model_optimization.python.core.sparsity.keras import pruning_wrapper\n",
    "    \n",
    "    co = {}\n",
    "    _add_supported_quantized_objects(co)\n",
    "    co['PruneLowMagnitude'] = pruning_wrapper.PruneLowMagnitude\n",
    "    model_pruned = tf.keras.models.load_model('pruned_cnn_model.h5', custom_objects=co)"
   ]
  },
  {
   "cell_type": "code",
   "execution_count": 10,
   "metadata": {},
   "outputs": [
    {
     "name": "stdout",
     "output_type": "stream",
     "text": [
      "8/8 [==============================] - 0s 8ms/step - loss: 2.4191e-06 - accuracy: 1.0000\n",
      "Keras accuracy = 1.0\n"
     ]
    }
   ],
   "source": [
    "test_score_baseline = model.evaluate(test_data_tf, test_targets_tf)\n",
    "print('Keras accuracy = {}'.format(test_score_baseline[1]))"
   ]
  },
  {
   "cell_type": "code",
   "execution_count": 11,
   "metadata": {},
   "outputs": [
    {
     "name": "stdout",
     "output_type": "stream",
     "text": [
      "8/8 [==============================] - 0s 8ms/step\n",
      "[[ 52   0   0]\n",
      " [  0 102   0]\n",
      " [  0   0 102]]\n"
     ]
    }
   ],
   "source": [
    "from sklearn.metrics import confusion_matrix\n",
    "\n",
    "y_prediction = model.predict(test_data_tf)\n",
    "y_prediction = np.argmax(y_prediction, axis = 1)\n",
    "y_test = np.argmax(test_targets_tf, axis=1)\n",
    "#Create confusion matrix \n",
    "result = confusion_matrix(y_test, y_prediction)\n",
    "print(result)"
   ]
  },
  {
   "cell_type": "code",
   "execution_count": 12,
   "metadata": {},
   "outputs": [
    {
     "name": "stdout",
     "output_type": "stream",
     "text": [
      "0 0\n",
      "0 0\n",
      "0 0\n",
      "0 0\n",
      "0 0\n",
      "0 0\n",
      "0 0\n",
      "0 0\n",
      "0 0\n",
      "0 0\n",
      "0 0\n",
      "0 0\n",
      "0 0\n",
      "0 0\n",
      "0 0\n",
      "0 0\n",
      "0 0\n",
      "0 0\n",
      "0 0\n",
      "0 0\n",
      "0 0\n",
      "0 0\n",
      "0 0\n",
      "0 0\n",
      "0 0\n",
      "0 0\n",
      "0 0\n",
      "0 0\n",
      "0 0\n",
      "0 0\n",
      "0 0\n",
      "0 0\n",
      "0 0\n",
      "0 0\n",
      "0 0\n",
      "0 0\n",
      "0 0\n",
      "0 0\n",
      "0 0\n",
      "0 0\n",
      "0 0\n",
      "0 0\n",
      "0 0\n",
      "0 0\n",
      "0 0\n",
      "0 0\n",
      "0 0\n",
      "0 0\n",
      "0 0\n",
      "0 0\n",
      "0 0\n",
      "0 0\n",
      "1 1\n",
      "1 1\n",
      "1 1\n",
      "1 1\n",
      "1 1\n",
      "1 1\n",
      "1 1\n",
      "1 1\n",
      "1 1\n",
      "1 1\n",
      "1 1\n",
      "1 1\n",
      "1 1\n",
      "1 1\n",
      "1 1\n",
      "1 1\n",
      "1 1\n",
      "1 1\n",
      "1 1\n",
      "1 1\n",
      "1 1\n",
      "1 1\n",
      "1 1\n",
      "1 1\n",
      "1 1\n",
      "1 1\n",
      "1 1\n",
      "1 1\n",
      "1 1\n",
      "1 1\n",
      "1 1\n",
      "1 1\n",
      "1 1\n",
      "1 1\n",
      "1 1\n",
      "1 1\n",
      "1 1\n",
      "1 1\n",
      "1 1\n",
      "1 1\n",
      "1 1\n",
      "1 1\n",
      "1 1\n",
      "1 1\n",
      "1 1\n",
      "1 1\n",
      "1 1\n",
      "1 1\n",
      "1 1\n",
      "1 1\n",
      "1 1\n",
      "1 1\n",
      "1 1\n",
      "1 1\n",
      "1 1\n",
      "1 1\n",
      "1 1\n",
      "1 1\n",
      "1 1\n",
      "1 1\n",
      "1 1\n",
      "1 1\n",
      "1 1\n",
      "1 1\n",
      "1 1\n",
      "1 1\n",
      "1 1\n",
      "1 1\n",
      "1 1\n",
      "1 1\n",
      "1 1\n",
      "1 1\n",
      "1 1\n",
      "1 1\n",
      "1 1\n",
      "1 1\n",
      "1 1\n",
      "1 1\n",
      "1 1\n",
      "1 1\n",
      "1 1\n",
      "1 1\n",
      "1 1\n",
      "1 1\n",
      "1 1\n",
      "1 1\n",
      "1 1\n",
      "1 1\n",
      "1 1\n",
      "1 1\n",
      "1 1\n",
      "1 1\n",
      "1 1\n",
      "1 1\n",
      "1 1\n",
      "1 1\n",
      "1 1\n",
      "1 1\n",
      "1 1\n",
      "1 1\n",
      "1 1\n",
      "1 1\n",
      "2 2\n",
      "2 2\n",
      "2 2\n",
      "2 2\n",
      "2 2\n",
      "2 2\n",
      "2 2\n",
      "2 2\n",
      "2 2\n",
      "2 2\n",
      "2 2\n",
      "2 2\n",
      "2 2\n",
      "2 2\n",
      "2 2\n",
      "2 2\n",
      "2 2\n",
      "2 2\n",
      "2 2\n",
      "2 2\n",
      "2 2\n",
      "2 2\n",
      "2 2\n",
      "2 2\n",
      "2 2\n",
      "2 2\n",
      "2 2\n",
      "2 2\n",
      "2 2\n",
      "2 2\n",
      "2 2\n",
      "2 2\n",
      "2 2\n",
      "2 2\n",
      "2 2\n",
      "2 2\n",
      "2 2\n",
      "2 2\n",
      "2 2\n",
      "2 2\n",
      "2 2\n",
      "2 2\n",
      "2 2\n",
      "2 2\n",
      "2 2\n",
      "2 2\n",
      "2 2\n",
      "2 2\n",
      "2 2\n",
      "2 2\n",
      "2 2\n",
      "2 2\n",
      "2 2\n",
      "2 2\n",
      "2 2\n",
      "2 2\n",
      "2 2\n",
      "2 2\n",
      "2 2\n",
      "2 2\n",
      "2 2\n",
      "2 2\n",
      "2 2\n",
      "2 2\n",
      "2 2\n",
      "2 2\n",
      "2 2\n",
      "2 2\n",
      "2 2\n",
      "2 2\n",
      "2 2\n",
      "2 2\n",
      "2 2\n",
      "2 2\n",
      "2 2\n",
      "2 2\n",
      "2 2\n",
      "2 2\n",
      "2 2\n",
      "2 2\n",
      "2 2\n",
      "2 2\n",
      "2 2\n",
      "2 2\n",
      "2 2\n",
      "2 2\n",
      "2 2\n",
      "2 2\n",
      "2 2\n",
      "2 2\n",
      "2 2\n",
      "2 2\n",
      "2 2\n",
      "2 2\n",
      "2 2\n",
      "2 2\n",
      "2 2\n",
      "2 2\n",
      "2 2\n",
      "2 2\n",
      "2 2\n",
      "2 2\n"
     ]
    }
   ],
   "source": [
    "for pred, gt in zip(y_prediction,y_test):\n",
    "    print(pred, gt)"
   ]
  },
  {
   "cell_type": "code",
   "execution_count": null,
   "metadata": {},
   "outputs": [],
   "source": [
    "def doWeights(model):\n",
    "\n",
    "    allWeightsByLayer = {}\n",
    "    for layer in model.layers:\n",
    "        if (layer._name).find(\"batch\")!=-1 or len(layer.get_weights())<1:\n",
    "            continue \n",
    "        weights=layer.weights[0].numpy().flatten()  \n",
    "        allWeightsByLayer[layer._name] = weights\n",
    "        print('Layer {}: % of zeros = {}'.format(layer._name,np.sum(weights==0)/np.size(weights)))\n",
    "\n",
    "    labelsW = []\n",
    "    histosW = []\n",
    "\n",
    "    for key in reversed(sorted(allWeightsByLayer.keys())):\n",
    "        labelsW.append(key)\n",
    "        histosW.append(allWeightsByLayer[key])\n",
    "\n",
    "    fig = plt.figure(figsize=(10,10))\n",
    "    bins = np.linspace(-1.5, 1.5, 50)\n",
    "    plt.hist(histosW,bins,histtype='stepfilled',stacked=True,label=labelsW, edgecolor='black')\n",
    "    plt.legend(frameon=False,loc='upper left')\n",
    "    plt.ylabel('Number of Weights')\n",
    "    plt.xlabel('Weights')\n",
    "    plt.figtext(0.2, 0.38,model._name, wrap=True, horizontalalignment='left',verticalalignment='center')\n",
    "    \n",
    "doWeights(model_pruned) "
   ]
  },
  {
   "cell_type": "markdown",
   "metadata": {
    "deletable": false,
    "editable": false
   },
   "source": [
    "## CNNs in hls4ml\n",
    "\n",
    "In this part, we will take the two models we trained above (the floating-point 32 Keras model and the 6-bit QKeras model), and synthesize them with hls4ml. Although your models are probably already in memory, let's load them from scratch. We need to pass the appropriate custom QKeras/pruning layers when loading, and remove the pruning parameters that were saved together with the model."
   ]
  },
  {
   "cell_type": "code",
   "execution_count": null,
   "metadata": {},
   "outputs": [],
   "source": [
    "from tensorflow_model_optimization.sparsity.keras import strip_pruning\n",
    "from tensorflow_model_optimization.python.core.sparsity.keras import pruning_wrapper\n",
    "\n",
    "from qkeras.utils import _add_supported_quantized_objects\n",
    "\n",
    "co = {}\n",
    "_add_supported_quantized_objects(co)\n",
    "co['PruneLowMagnitude'] = pruning_wrapper.PruneLowMagnitude\n",
    "\n",
    "model = tf.keras.models.load_model('pruned_cnn_model.h5',custom_objects=co)\n",
    "model  = strip_pruning(model)\n"
   ]
  },
  {
   "cell_type": "markdown",
   "metadata": {},
   "source": [
    "Now, we need to define the hls4ml and Vivado configurations. Two things will change with respect to what was done in the previous exercises. First, we will use ``IOType= 'io_stream'`` in the Vivado configuration.\n",
    "\n",
    "---\n",
    "****You must use ``IOType= 'io_stream'`` if attempting to synthesize a convolutional neural network.****\n",
    "\n",
    "---\n",
    "The CNN implementation in hls4ml is based on streams, which are synthesized in hardware as first in, first out (FIFO) buffers. Shift registers are used to keep track of the last  ``<kernel height - 1>`` rows of input pixels, and maintains a shifting snapshot of the convolution kernel.\n",
    "\n",
    "This is illustrated  in the gif below. Here, the input image is at the top-left and the output image at the bottom left. The top right image shows the internal state of the shift registers and convolutional kernel. The red square indicates the current pixels contained within the convolutional kernel.\n",
    "\n",
    "![alt text](images/conv2d_animation.gif \"The implementation of convolutional layers in hls4ml.\")\n",
    "\n",
    "Lastly, we will use ``['Strategy'] = 'Latency'`` for all the layers in the hls4ml configuration. If one layer would have >4096 elements, we sould set ``['Strategy'] = 'Resource'`` for that layer, or increase the reuse factor by hand. You can find examples of how to do this below."
   ]
  },
  {
   "cell_type": "code",
   "execution_count": null,
   "metadata": {},
   "outputs": [],
   "source": [
    "import hls4ml\n",
    "import plotting\n",
    "\n",
    "hls4ml.model.optimizer.OutputRoundingSaturationMode.layers = ['Activation']\n",
    "hls4ml.model.optimizer.OutputRoundingSaturationMode.rounding_mode = 'AP_RND'\n",
    "hls4ml.model.optimizer.OutputRoundingSaturationMode.saturation_mode = 'AP_SAT'\n",
    "\n",
    "#First, the baseline model\n",
    "hls_config = hls4ml.utils.config_from_keras_model(model, granularity='name')\n",
    "\n",
    "# Set the precision and reuse factor for the full model\n",
    "hls_config['Model']['Precision'] = 'ap_fixed<16,6>'\n",
    "hls_config['Model']['ReuseFactor'] = 4\n",
    "\n",
    "# Create an entry for each layer, here you can for instance change the strategy for a layer to 'resource' \n",
    "# or increase the reuse factor individually for large layers.\n",
    "# In this case, we designed the model to be small enough for a fully parallel implementation \n",
    "# so we use the latency strategy and reuse factor of 1 for all layers.\n",
    "for Layer in hls_config['LayerName'].keys():\n",
    "    hls_config['LayerName'][Layer]['Strategy'] = 'Resource'\n",
    "    hls_config['LayerName'][Layer]['ReuseFactor'] = 4\n",
    "#If you want best numerical performance for high-accuray models, while the default latency strategy is faster but numerically more unstable\n",
    "hls_config['LayerName']['output_softmax']['Strategy'] = 'Stable'\n",
    "plotting.print_dict(hls_config)\n",
    "\n",
    "cfg = hls4ml.converters.create_config(backend='Vivado')\n",
    "cfg['IOType']     = 'io_stream' # Must set this if using CNNs!\n",
    "cfg['HLSConfig']  = hls_config\n",
    "cfg['KerasModel'] = model\n",
    "cfg['OutputDir']  = 'pruned_cnn/'\n",
    "cfg['XilinxPart'] = \"xc7z020clg400-1\"\n",
    "  \n",
    "hls_model = hls4ml.converters.keras_to_hls(cfg)\n",
    "hls_model.compile()"
   ]
  },
  {
   "cell_type": "markdown",
   "metadata": {
    "deletable": false,
    "editable": false
   },
   "source": [
    "Let's get a nice overview over the various shapes and precisions used for each layer through ``hls4ml.utils.plot_model``, as well as look at the weight profile using ``hls4ml.model.profiling.numerical``. The weight profiling returns two plots: Before (top) and after (bottom) various optimizations applied to the HLS model before the final translation to HLS, for instance the fusing of Dense and BatchNormalization layers."
   ]
  },
  {
   "cell_type": "code",
   "execution_count": null,
   "metadata": {},
   "outputs": [],
   "source": [
    "hls4ml.utils.plot_model(hls_model, show_shapes=True, show_precision=True, to_file=None)"
   ]
  },
  {
   "cell_type": "code",
   "execution_count": null,
   "metadata": {},
   "outputs": [],
   "source": [
    "hls4ml.model.profiling.numerical(model=model, hls_model=hls_model)"
   ]
  },
  {
   "cell_type": "markdown",
   "metadata": {
    "deletable": false,
    "editable": false
   },
   "source": [
    "The colored boxes are the distribution of the weights of the model, and the gray band illustrates the numerical range covered by the chosen fixed point precision. As we configured, this model uses a precision of ``ap_fixed<16,6>`` for all layers of the model. Let's now build our QKeras model"
   ]
  },
  {
   "cell_type": "markdown",
   "metadata": {
    "deletable": false,
    "editable": false
   },
   "source": [
    "### Accuracy with bit-accurate emulation \n",
    "Let's check that the hls4ml accuracy matches the original. This usually takes some time, so let's do it over a reduced dataset"
   ]
  },
  {
   "cell_type": "code",
   "execution_count": null,
   "metadata": {},
   "outputs": [],
   "source": [
    "X_test_reduced = test_data_tf[:3000]\n",
    "Y_test_reduced = test_targets_tf[:3000]"
   ]
  },
  {
   "cell_type": "code",
   "execution_count": null,
   "metadata": {},
   "outputs": [],
   "source": [
    "y_predict        = model.predict(X_test_reduced)\n",
    "y_predict_hls4ml = hls_model.predict(np.ascontiguousarray(X_test_reduced))"
   ]
  },
  {
   "cell_type": "code",
   "execution_count": null,
   "metadata": {},
   "outputs": [],
   "source": [
    "import plotting\n",
    "from sklearn.metrics import accuracy_score\n",
    "\n",
    "def plotROC(Y, y_pred, y_pred_hls4ml, label=\"Model\"):\n",
    "    \n",
    "    accuracy_keras  = float(accuracy_score (np.argmax(Y,axis=1), np.argmax(y_pred,axis=1)))\n",
    "    accuracy_hls4ml = float(accuracy_score (np.argmax(Y,axis=1), np.argmax(y_pred_hls4ml,axis=1)))\n",
    "\n",
    "    print(\"Accuracy Keras:  {}\".format(accuracy_keras))\n",
    "    print(\"Accuracy hls4ml: {}\".format(accuracy_hls4ml))\n",
    "    \n",
    "    fig, ax = plt.subplots(figsize=(9, 9))\n",
    "    _ = plotting.makeRoc(Y, y_pred, labels=['%i'%nr for nr in range(n_classes)])\n",
    "    plt.gca().set_prop_cycle(None) # reset the colors\n",
    "    _ = plotting.makeRoc(Y, y_pred_hls4ml, labels=['%i'%nr for nr in range(n_classes)], linestyle='--')\n",
    "\n",
    "    from matplotlib.lines import Line2D\n",
    "    lines = [Line2D([0], [0], ls='-'),\n",
    "             Line2D([0], [0], ls='--')]\n",
    "    from matplotlib.legend import Legend\n",
    "    leg = Legend(ax, lines, labels=['Keras', 'hls4ml'],\n",
    "                loc='lower right', frameon=False)\n",
    "    ax.add_artist(leg)\n",
    "    plt.figtext(0.2, 0.38,label, wrap=True, horizontalalignment='left',verticalalignment='center')\n",
    "    plt.ylim(0.01,1.)\n",
    "    plt.xlim(0.7,1.)\n",
    "\n",
    "# Plot the pruned floating point model:    \n",
    "plotROC(Y_test_reduced,y_predict,y_predict_hls4ml,label=\"Keras\") "
   ]
  },
  {
   "cell_type": "markdown",
   "metadata": {
    "deletable": false,
    "editable": false
   },
   "source": [
    "Looks good! Let's synthesize the models. \n",
    "## Logic synthesis\n",
    "This takes quite a while for CNN models, up to one hour for the models considered here. In the interest of time, we have therefore provided the neccessary reports for the models considered. You can also synthesize them yourself if you have time, and as usual follow the progress using ``tail -f pruned_cnn/vivado_hls.log`` and ``tail -f quantized_pruned_cnn/vivado_hls.log``.\n"
   ]
  },
  {
   "cell_type": "code",
   "execution_count": null,
   "metadata": {},
   "outputs": [],
   "source": [
    "synth = False # Only if you want to synthesize the models yourself (>1h per model) rather than look at the provided reports.\n",
    "if synth:\n",
    "    hls_model.build(csim=False, synth=True, vsynth=True)"
   ]
  },
  {
   "cell_type": "markdown",
   "metadata": {
    "deletable": false,
    "editable": false
   },
   "source": [
    "We extract the latency from the C synthesis, namely the report in ```<project_dir>/myproject_prj/solution1/syn/report/myproject_csynth.rpt```. A more accurate latency estimate can be obtained from running cosim by passing ```hls_model.build(csim=False, synth=True, vsynth=True, cosim=True)``` ( = C/RTL cosimulation, synthesised HLS code is run on a simulator and tested on C test bench) but this takes a lot of time so we will skip it here.\n",
    "The resource estimates are obtained from the Vivado logic synthesis, and can be extracted from the report in ```<project_dir>/vivado_synth.rpt```. Let's fetch the most relevant numbers:"
   ]
  },
  {
   "cell_type": "code",
   "execution_count": null,
   "metadata": {},
   "outputs": [],
   "source": [
    "def getReports(indir):\n",
    "    data_ = {}\n",
    "    \n",
    "    report_vsynth = Path('{}/vivado_synth.rpt'.format(indir))\n",
    "    report_csynth = Path('{}/myproject_prj/solution1/syn/report/myproject_csynth.rpt'.format(indir))\n",
    "    \n",
    "    if report_vsynth.is_file() and report_csynth.is_file():\n",
    "        print('Found valid vsynth and synth in {}! Fetching numbers'.format(indir))\n",
    "        \n",
    "        # Get the resources from the logic synthesis report \n",
    "        with report_vsynth.open() as report:\n",
    "            lines = np.array(report.readlines())\n",
    "            data_['lut']     = int(lines[np.array(['CLB LUTs*' in line for line in lines])][0].split('|')[2])\n",
    "            data_['ff']      = int(lines[np.array(['CLB Registers' in line for line in lines])][0].split('|')[2])\n",
    "            data_['bram']    = float(lines[np.array(['Block RAM Tile' in line for line in lines])][0].split('|')[2])\n",
    "            data_['dsp']     = int(lines[np.array(['DSPs' in line for line in lines])][0].split('|')[2])\n",
    "            data_['lut_rel'] = float(lines[np.array(['CLB LUTs*' in line for line in lines])][0].split('|')[5])\n",
    "            data_['ff_rel']  = float(lines[np.array(['CLB Registers' in line for line in lines])][0].split('|')[5])\n",
    "            data_['bram_rel']= float(lines[np.array(['Block RAM Tile' in line for line in lines])][0].split('|')[5])\n",
    "            data_['dsp_rel'] = float(lines[np.array(['DSPs' in line for line in lines])][0].split('|')[5])\n",
    "        \n",
    "        with report_csynth.open() as report:\n",
    "            lines = np.array(report.readlines())\n",
    "            lat_line = lines[np.argwhere(np.array(['Latency (cycles)' in line for line in lines])).flatten()[0] + 3]\n",
    "            data_['latency_clks'] = int(lat_line.split('|')[2])\n",
    "            data_['latency_mus']  = float(lat_line.split('|')[2])*5.0/1000.\n",
    "            data_['latency_ii']   = int(lat_line.split('|')[6])\n",
    "    \n",
    "    return data_"
   ]
  },
  {
   "cell_type": "code",
   "execution_count": null,
   "metadata": {},
   "outputs": [],
   "source": [
    "from pathlib import Path\n",
    "import pprint \n",
    "\n",
    "data_pruned_ref = getReports('pruned_cnn')\n",
    "\n",
    "print(\"\\n Resource usage and latency: Pruned\")\n",
    "pprint.pprint(data_pruned_ref)"
   ]
  }
 ],
 "metadata": {
  "kernelspec": {
   "display_name": "Python 3 (ipykernel)",
   "language": "python",
   "name": "python3"
  },
  "language_info": {
   "codemirror_mode": {
    "name": "ipython",
    "version": 3
   },
   "file_extension": ".py",
   "mimetype": "text/x-python",
   "name": "python",
   "nbconvert_exporter": "python",
   "pygments_lexer": "ipython3",
   "version": "3.10.8"
  },
  "vscode": {
   "interpreter": {
    "hash": "916dbcbb3f70747c44a77c7bcd40155683ae19c65e1c03b4aa3499c5328201f1"
   }
  }
 },
 "nbformat": 4,
 "nbformat_minor": 4
}
