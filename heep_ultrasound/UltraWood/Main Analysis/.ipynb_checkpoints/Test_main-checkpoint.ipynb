{
 "cells": [
  {
   "cell_type": "code",
   "execution_count": 1,
   "id": "52af0f59",
   "metadata": {},
   "outputs": [],
   "source": [
    "import torch\n",
    "import random\n",
    "import glob"
   ]
  },
  {
   "cell_type": "code",
   "execution_count": 2,
   "id": "06ac4f29",
   "metadata": {},
   "outputs": [],
   "source": [
    "seed = 1995\n",
    "random.seed(seed)     # python random generator\n",
    "\n",
    "torch.manual_seed(seed)\n",
    "torch.cuda.manual_seed_all(seed)"
   ]
  },
  {
   "cell_type": "code",
   "execution_count": 3,
   "id": "3ae7d236",
   "metadata": {},
   "outputs": [
    {
     "data": {
      "text/plain": [
       "['../data/torch test\\\\dry_test_new',\n",
       " '../data/torch test\\\\semi_test_new',\n",
       " '../data/torch test\\\\wet_test_new']"
      ]
     },
     "execution_count": 3,
     "metadata": {},
     "output_type": "execute_result"
    }
   ],
   "source": [
    "path = '../data/torch test/'\n",
    "allFiles = glob.glob(path + \"/*\")\n",
    "allFiles"
   ]
  },
  {
   "cell_type": "code",
   "execution_count": 4,
   "id": "218c755d",
   "metadata": {},
   "outputs": [
    {
     "name": "stdout",
     "output_type": "stream",
     "text": [
      "Working on:  dry_test_new\n",
      "Working on:  semi_test_new\n",
      "Working on:  wet_test_new\n"
     ]
    }
   ],
   "source": [
    "all_data = []\n",
    "targets = []\n",
    "for file in allFiles:\n",
    "    file_name = file.split('\\\\')[-1]\n",
    "    print('Working on: ', file_name)\n",
    "    \n",
    "    if \"dry\" in file_name:\n",
    "        target = 0\n",
    "    elif \"demi\" in file_name or \"semi\" in file_name:\n",
    "        target = 1\n",
    "    elif \"wet\" in file_name:\n",
    "        target = 2\n",
    "    targets.append(target)\n",
    "    all_data.append(torch.load(file))"
   ]
  },
  {
   "cell_type": "code",
   "execution_count": 5,
   "id": "f1b4ff49",
   "metadata": {},
   "outputs": [],
   "source": [
    "test_data = []\n",
    "test_targets = []"
   ]
  },
  {
   "cell_type": "code",
   "execution_count": 6,
   "id": "4909a068",
   "metadata": {},
   "outputs": [
    {
     "name": "stdout",
     "output_type": "stream",
     "text": [
      "torch.Size([52, 1, 35000])\n",
      "torch.Size([102, 1, 35000])\n",
      "torch.Size([102, 1, 35000])\n"
     ]
    }
   ],
   "source": [
    "i = 0\n",
    "for data in all_data:\n",
    "    print(data.shape)\n",
    "    dataTest = data\n",
    "    labelTest = torch.ones(data.size(0))*targets[i]\n",
    "    i += 1\n",
    "    test_data.append(dataTest)\n",
    "    test_targets.append(labelTest)"
   ]
  },
  {
   "cell_type": "code",
   "execution_count": 7,
   "id": "141349c9",
   "metadata": {},
   "outputs": [
    {
     "data": {
      "text/plain": [
       "torch.Size([256, 1, 35000])"
      ]
     },
     "execution_count": 7,
     "metadata": {},
     "output_type": "execute_result"
    }
   ],
   "source": [
    "test_data_torch = torch.cat(all_data, 0)\n",
    "test_data_torch.shape"
   ]
  },
  {
   "cell_type": "code",
   "execution_count": 8,
   "id": "a88a864f",
   "metadata": {},
   "outputs": [
    {
     "data": {
      "text/plain": [
       "torch.Size([256])"
      ]
     },
     "execution_count": 8,
     "metadata": {},
     "output_type": "execute_result"
    }
   ],
   "source": [
    "test_targets_torch = torch.cat(test_targets, 0)\n",
    "test_targets_torch.shape"
   ]
  },
  {
   "cell_type": "code",
   "execution_count": 9,
   "id": "a43dd86f",
   "metadata": {},
   "outputs": [],
   "source": [
    "torch.save(test_data_torch, '../data/databases/test_data_torch_main.pt')\n",
    "torch.save(test_targets_torch, '../data/databases/test_targets_torch_main.pt')"
   ]
  }
 ],
 "metadata": {
  "kernelspec": {
   "display_name": "Python 3 (ipykernel)",
   "language": "python",
   "name": "python3"
  },
  "language_info": {
   "codemirror_mode": {
    "name": "ipython",
    "version": 3
   },
   "file_extension": ".py",
   "mimetype": "text/x-python",
   "name": "python",
   "nbconvert_exporter": "python",
   "pygments_lexer": "ipython3",
   "version": "3.10.8"
  }
 },
 "nbformat": 4,
 "nbformat_minor": 5
}
