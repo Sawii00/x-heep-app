{
 "cells": [
  {
   "cell_type": "code",
   "execution_count": 1,
   "id": "52af0f59",
   "metadata": {},
   "outputs": [],
   "source": [
    "import torch\n",
    "import random\n",
    "import glob"
   ]
  },
  {
   "cell_type": "code",
   "execution_count": 2,
   "id": "06ac4f29",
   "metadata": {},
   "outputs": [],
   "source": [
    "seed = 1995\n",
    "random.seed(seed)     # python random generator\n",
    "\n",
    "torch.manual_seed(seed)\n",
    "torch.cuda.manual_seed_all(seed)"
   ]
  },
  {
   "cell_type": "code",
   "execution_count": 3,
   "id": "3ae7d236",
   "metadata": {},
   "outputs": [
    {
     "data": {
      "text/plain": [
       "['../data/torch main\\\\S11_dry',\n",
       " '../data/torch main\\\\S12_dry',\n",
       " '../data/torch main\\\\S13_dry',\n",
       " '../data/torch main\\\\S14_dry',\n",
       " '../data/torch main\\\\S21_demi',\n",
       " '../data/torch main\\\\S21_dry',\n",
       " '../data/torch main\\\\S22_demi',\n",
       " '../data/torch main\\\\S22_dry',\n",
       " '../data/torch main\\\\S23_demi',\n",
       " '../data/torch main\\\\S23_dry',\n",
       " '../data/torch main\\\\S24_demi',\n",
       " '../data/torch main\\\\S24_dry',\n",
       " '../data/torch main\\\\S31_dry',\n",
       " '../data/torch main\\\\S31_wet',\n",
       " '../data/torch main\\\\S32_dry',\n",
       " '../data/torch main\\\\S32_wet',\n",
       " '../data/torch main\\\\S33_dry',\n",
       " '../data/torch main\\\\S33_wet',\n",
       " '../data/torch main\\\\S34_dry',\n",
       " '../data/torch main\\\\S34_wet']"
      ]
     },
     "execution_count": 3,
     "metadata": {},
     "output_type": "execute_result"
    }
   ],
   "source": [
    "path = '../data/torch main/'\n",
    "allFiles = glob.glob(path + \"/*\")\n",
    "allFiles"
   ]
  },
  {
   "cell_type": "code",
   "execution_count": 4,
   "id": "218c755d",
   "metadata": {},
   "outputs": [
    {
     "name": "stdout",
     "output_type": "stream",
     "text": [
      "Working on : ../data/torch main\\S11_dry\n",
      "Working on : ../data/torch main\\S12_dry\n",
      "Working on : ../data/torch main\\S13_dry\n",
      "Working on : ../data/torch main\\S14_dry\n",
      "Working on : ../data/torch main\\S21_demi\n",
      "Working on : ../data/torch main\\S21_dry\n",
      "Working on : ../data/torch main\\S22_demi\n",
      "Working on : ../data/torch main\\S22_dry\n",
      "Working on : ../data/torch main\\S23_demi\n",
      "Working on : ../data/torch main\\S23_dry\n",
      "Working on : ../data/torch main\\S24_demi\n",
      "Working on : ../data/torch main\\S24_dry\n",
      "Working on : ../data/torch main\\S31_dry\n",
      "Working on : ../data/torch main\\S31_wet\n",
      "Working on : ../data/torch main\\S32_dry\n",
      "Working on : ../data/torch main\\S32_wet\n",
      "Working on : ../data/torch main\\S33_dry\n",
      "Working on : ../data/torch main\\S33_wet\n",
      "Working on : ../data/torch main\\S34_dry\n",
      "Working on : ../data/torch main\\S34_wet\n"
     ]
    }
   ],
   "source": [
    "all_data = []\n",
    "targets = []\n",
    "for file in allFiles:\n",
    "    print(\"Working on :\", file)\n",
    "    all_data.append(torch.load(file))\n",
    "    if \"dry\" in file:\n",
    "        target = 0\n",
    "    elif \"demi\" in file:\n",
    "        target = 1\n",
    "    elif \"wet\" in file:\n",
    "        target = 2\n",
    "    targets.append(target)\n",
    "    "
   ]
  },
  {
   "cell_type": "code",
   "execution_count": 5,
   "id": "93937a15",
   "metadata": {},
   "outputs": [
    {
     "data": {
      "text/plain": [
       "[0, 0, 0, 0, 1, 0, 1, 0, 1, 0, 1, 0, 0, 2, 0, 2, 0, 2, 0, 2]"
      ]
     },
     "execution_count": 5,
     "metadata": {},
     "output_type": "execute_result"
    }
   ],
   "source": [
    "targets"
   ]
  },
  {
   "cell_type": "code",
   "execution_count": 6,
   "id": "64b2c888",
   "metadata": {},
   "outputs": [],
   "source": [
    "train_data = []\n",
    "train_targets = []\n",
    "test_data = []\n",
    "test_targets = []"
   ]
  },
  {
   "cell_type": "code",
   "execution_count": 7,
   "id": "a7d5042f",
   "metadata": {},
   "outputs": [
    {
     "name": "stdout",
     "output_type": "stream",
     "text": [
      "torch.Size([1079, 1, 35000])\n",
      "torch.Size([1495, 1, 35000])\n",
      "torch.Size([1218, 1, 35000])\n",
      "torch.Size([1312, 1, 35000])\n",
      "torch.Size([1226, 1, 35000])\n",
      "torch.Size([993, 1, 35000])\n",
      "torch.Size([1082, 1, 35000])\n",
      "torch.Size([1050, 1, 35000])\n",
      "torch.Size([849, 1, 35000])\n",
      "torch.Size([1024, 1, 35000])\n",
      "torch.Size([1639, 1, 35000])\n",
      "torch.Size([974, 1, 35000])\n",
      "torch.Size([834, 1, 35000])\n",
      "torch.Size([1463, 1, 35000])\n",
      "torch.Size([1105, 1, 35000])\n",
      "torch.Size([1482, 1, 35000])\n",
      "torch.Size([988, 1, 35000])\n",
      "torch.Size([1491, 1, 35000])\n",
      "torch.Size([1075, 1, 35000])\n",
      "torch.Size([1306, 1, 35000])\n"
     ]
    }
   ],
   "source": [
    "i = 0\n",
    "for data in all_data:\n",
    "    print(data.shape)\n",
    "    shuffledIndexes = torch.randperm(data.size(0))\n",
    "    data = data[shuffledIndexes]\n",
    "    dataTrain = data.narrow(0, 0, int(data.size(0) * 0.8))\n",
    "    labelTrain = torch.ones(int(data.size(0) * 0.8))*targets[i]\n",
    "    dataTest = data.narrow(0, int(data.size(0) * 0.8), data.size(0)-int(data.size(0) * 0.8))\n",
    "    labelTest = torch.ones(data.size(0)-int(data.size(0) * 0.8))*targets[i]\n",
    "    i += 1\n",
    "    train_data.append(dataTrain)\n",
    "    train_targets.append(labelTrain)\n",
    "    test_data.append(dataTest)\n",
    "    test_targets.append(labelTest)"
   ]
  },
  {
   "cell_type": "code",
   "execution_count": 8,
   "id": "33661885",
   "metadata": {},
   "outputs": [
    {
     "data": {
      "text/plain": [
       "torch.Size([18941, 1, 35000])"
      ]
     },
     "execution_count": 8,
     "metadata": {},
     "output_type": "execute_result"
    }
   ],
   "source": [
    "train_data_torch = torch.cat(train_data, 0)\n",
    "train_data_torch.shape"
   ]
  },
  {
   "cell_type": "code",
   "execution_count": 9,
   "id": "212fd01a",
   "metadata": {},
   "outputs": [
    {
     "data": {
      "text/plain": [
       "torch.Size([18941])"
      ]
     },
     "execution_count": 9,
     "metadata": {},
     "output_type": "execute_result"
    }
   ],
   "source": [
    "train_targets_torch = torch.cat(train_targets, 0)\n",
    "train_targets_torch.shape"
   ]
  },
  {
   "cell_type": "code",
   "execution_count": 10,
   "id": "bb4b4079",
   "metadata": {},
   "outputs": [
    {
     "data": {
      "text/plain": [
       "torch.Size([4744, 1, 35000])"
      ]
     },
     "execution_count": 10,
     "metadata": {},
     "output_type": "execute_result"
    }
   ],
   "source": [
    "test_data_torch = torch.cat(test_data, 0)\n",
    "test_data_torch.shape"
   ]
  },
  {
   "cell_type": "code",
   "execution_count": 11,
   "id": "2ccb2a5d",
   "metadata": {},
   "outputs": [
    {
     "data": {
      "text/plain": [
       "torch.Size([4744])"
      ]
     },
     "execution_count": 11,
     "metadata": {},
     "output_type": "execute_result"
    }
   ],
   "source": [
    "test_targets_torch = torch.cat(test_targets, 0)\n",
    "test_targets_torch.shape"
   ]
  },
  {
   "cell_type": "code",
   "execution_count": 12,
   "id": "a43dd86f",
   "metadata": {},
   "outputs": [],
   "source": [
    "torch.save(train_data_torch, '../data/databases/train_data_torch_main.pt')\n",
    "torch.save(train_targets_torch, '../data/databases/train_targets_torch_main.pt')\n",
    "torch.save(test_data_torch, '../data/databases/test_data_torch_main.pt')\n",
    "torch.save(test_targets_torch, '../data/databases/test_targets_torch_main.pt')"
   ]
  }
 ],
 "metadata": {
  "kernelspec": {
   "display_name": "Python 3 (ipykernel)",
   "language": "python",
   "name": "python3"
  },
  "language_info": {
   "codemirror_mode": {
    "name": "ipython",
    "version": 3
   },
   "file_extension": ".py",
   "mimetype": "text/x-python",
   "name": "python",
   "nbconvert_exporter": "python",
   "pygments_lexer": "ipython3",
   "version": "3.9.12"
  }
 },
 "nbformat": 4,
 "nbformat_minor": 5
}
